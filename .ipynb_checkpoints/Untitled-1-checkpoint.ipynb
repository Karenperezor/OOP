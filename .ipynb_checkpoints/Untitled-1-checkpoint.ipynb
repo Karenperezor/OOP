{
 "cells": [
  {
   "cell_type": "markdown",
   "metadata": {},
   "source": [
    "# Ejercicio 5 de OOP"
   ]
  },
  {
   "cell_type": "markdown",
   "metadata": {},
   "source": [
    "\n",
    "<img src=\"./Diagramas_clases/06_herencia.jpg\" alt=\"Ex 1\" width=\"500\">\n"
   ]
  },
  {
   "cell_type": "markdown",
   "metadata": {},
   "source": [
    "## Clase `Employee` (empleado)\n",
    "- **int id:** Asigna un identificador único a cada instancia de Employee.\n",
    "- **int new_id:** Variable global de Employee\n",
    "_____________________________________\n",
    "- **void say_id():** Imprime el id de la instancia \n"
   ]
  }
 ],
 "metadata": {
  "language_info": {
   "name": "python"
  }
 },
 "nbformat": 4,
 "nbformat_minor": 2
}
