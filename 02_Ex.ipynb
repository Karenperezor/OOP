{
 "cells": [
  {
   "cell_type": "markdown",
   "metadata": {},
   "source": [
    "# Ejercicio 2 de OOP\n",
    "\n"
   ]
  },
  {
   "cell_type": "markdown",
   "metadata": {},
   "source": []
  },
  {
   "cell_type": "markdown",
   "metadata": {},
   "source": [
    "<img src=\"./Diagramas_clases/02_herencia.png\" alt=\"Ex2\" width=\"500\">\n",
    "\n"
   ]
  },
  {
   "cell_type": "markdown",
   "metadata": {},
   "source": []
  },
  {
   "cell_type": "markdown",
   "metadata": {},
   "source": [
    "- **void eat()**: Imprime 'yummy yummy! estoy comiendo'.\n",
    "- **void meow()**:Imprime 'Soy un gato y hago meow'\n",
    "- **void bark()**:Imprime 'Soy un perro y hago woof'\n"
   ]
  },
  {
   "cell_type": "code",
   "execution_count": 12,
   "metadata": {},
   "outputs": [],
   "source": [
    "class Animal:\n",
    "    def __init__(self, name):\n",
    "        self.name = name \n",
    "        \n",
    "    def eat(self):\n",
    "        print('Yummy yummy! estoy comiendo')\n",
    "\n",
    "class Cat(Animal):\n",
    "    def meow(self):\n",
    "        print(f'Soy {self.name} y hago meow!')\n",
    "  \n",
    "\n",
    "class Dog(Animal):\n",
    "    def bark(self):\n",
    "        print(f'Soy {self.name} y hago woof!')\n"
   ]
  },
  {
   "cell_type": "code",
   "execution_count": 13,
   "metadata": {},
   "outputs": [
    {
     "name": "stdout",
     "output_type": "stream",
     "text": [
      "Soy Michu y hago meow!\n",
      "Yummy yummy! estoy comiendo\n",
      "Soy firulais y hago woof!\n",
      "Yummy yummy! estoy comiendo\n"
     ]
    }
   ],
   "source": [
    "michu = Cat('Michu')\n",
    "firulais = Dog('firulais')\n",
    "\n",
    "michu.meow()\n",
    "michu.eat()\n",
    "firulais.bark()\n",
    "firulais.eat()"
   ]
  }
 ],
 "metadata": {
  "kernelspec": {
   "display_name": "Python 3",
   "language": "python",
   "name": "python3"
  },
  "language_info": {
   "codemirror_mode": {
    "name": "ipython",
    "version": 3
   },
   "file_extension": ".py",
   "mimetype": "text/x-python",
   "name": "python",
   "nbconvert_exporter": "python",
   "pygments_lexer": "ipython3",
   "version": "3.9.6"
  }
 },
 "nbformat": 4,
 "nbformat_minor": 2
}
