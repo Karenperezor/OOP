{
 "cells": [
  {
   "cell_type": "markdown",
   "metadata": {},
   "source": [
    "# Ejercicio 4 de OOP"
   ]
  },
  {
   "cell_type": "markdown",
   "metadata": {},
   "source": [
    "<img src=\"./Diagramas_clases/04_overrinding.png\" alt=\"Ex2\" width=\"500\">\n"
   ]
  },
  {
   "cell_type": "markdown",
   "metadata": {},
   "source": [
    "## Clase Animal\n",
    "- *str name*: Atributo de instancia. Nombre del animal.\n",
    "- *void eat()*: Imprime 'Yummy yummy! estoy comiendo.'.\n",
    "- *void make_noise()*: Imprime '{self.name} hace Grrrr!.'."
   ]
  },
  {
   "cell_type": "code",
   "execution_count": 18,
   "metadata": {},
   "outputs": [],
   "source": [
    "class Animal:\n",
    "    def __init__(self, name):\n",
    "        self.name = name\n",
    "        \n",
    "    def eat(self):\n",
    "        print('Yummy yummy! estoy comiendo.')\n",
    "\n",
    "    def make_noise(self):\n",
    "        print(f'{self.name} hace Grrrr!.')"
   ]
  },
  {
   "cell_type": "code",
   "execution_count": 19,
   "metadata": {},
   "outputs": [
    {
     "name": "stdout",
     "output_type": "stream",
     "text": [
      "Yummy yummy! estoy comiendo.\n",
      "Negro hace Grrrr!.\n"
     ]
    }
   ],
   "source": [
    "Negro = Animal('Negro')\n",
    "Negro.eat()\n",
    "Negro.make_noise()\n"
   ]
  },
  {
   "cell_type": "markdown",
   "metadata": {},
   "source": [
    "## Clase Cat\n",
    "- *void make_noise()*: Imprime '{self.name} hace Rrrrrr!.'.\n",
    "- *void meow()*: Imprime 'Soy un gato y hago Meow!.'."
   ]
  },
  {
   "cell_type": "code",
   "execution_count": 20,
   "metadata": {},
   "outputs": [],
   "source": [
    "class Cat(Animal):\n",
    "    def make_noise(self):\n",
    "        print(f'{self.name} hace Grrrr!.')\n",
    "    def meow(self):\n",
    "        print(f'Soy un gato y hago meow!')"
   ]
  },
  {
   "cell_type": "code",
   "execution_count": 21,
   "metadata": {},
   "outputs": [
    {
     "name": "stdout",
     "output_type": "stream",
     "text": [
      "Michu hace Grrrr!.\n",
      "Soy un gato y hago meow!\n",
      "Yummy yummy! estoy comiendo.\n"
     ]
    }
   ],
   "source": [
    "michu = Cat('Michu')\n",
    "michu.make_noise()\n",
    "michu.meow()\n",
    "michu.eat()\n"
   ]
  },
  {
   "cell_type": "markdown",
   "metadata": {},
   "source": [
    "## Clase Dog\n",
    "- *void bark()*: Imprime 'Soy un perro y hago woof woof!'"
   ]
  },
  {
   "cell_type": "code",
   "execution_count": 22,
   "metadata": {},
   "outputs": [],
   "source": [
    "class Dog(Animal):\n",
    "    def bark(self):\n",
    "        print(f'Soy un perro y hago woof woof!')\n",
    "        "
   ]
  },
  {
   "cell_type": "code",
   "execution_count": 23,
   "metadata": {},
   "outputs": [
    {
     "name": "stdout",
     "output_type": "stream",
     "text": [
      "Soy un perro y hago woof woof!\n",
      "Yummy yummy! estoy comiendo.\n",
      "Firu hace Grrrr!.\n"
     ]
    }
   ],
   "source": [
    "Firu = Dog('Firu')\n",
    "Firu.bark()\n",
    "Firu.eat()\n",
    "Firu.make_noise()"
   ]
  },
  {
   "cell_type": "markdown",
   "metadata": {},
   "source": []
  }
 ],
 "metadata": {
  "kernelspec": {
   "display_name": "Python 3",
   "language": "python",
   "name": "python3"
  },
  "language_info": {
   "codemirror_mode": {
    "name": "ipython",
    "version": 3
   },
   "file_extension": ".py",
   "mimetype": "text/x-python",
   "name": "python",
   "nbconvert_exporter": "python",
   "pygments_lexer": "ipython3",
   "version": "3.9.6"
  }
 },
 "nbformat": 4,
 "nbformat_minor": 2
}
