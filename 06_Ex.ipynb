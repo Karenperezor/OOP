{
 "cells": [
  {
   "cell_type": "markdown",
   "id": "7ca69bd2-06a2-4df1-a5dc-3bfd2f0d5807",
   "metadata": {},
   "source": [
    "# Ejercicio 6 de OOP"
   ]
  },
  {
   "cell_type": "markdown",
   "id": "5a49609e-b766-4ca3-a284-37e4f5788315",
   "metadata": {},
   "source": [
    "\n",
    "<img src=\"./Diagramas_clases/06_herencia.jpg\" alt=\"Ex 6\" width=\"300\">"
   ]
  },
  {
   "cell_type": "markdown",
   "id": "f7d9acff-c28a-4148-b886-093650136d3f",
   "metadata": {},
   "source": [
    "## Clase Employee\n",
    "- **int id**: Atributo de instancia. Identifica de manera unica a cada instancia de `Employee`.\n",
    "- **int new_id**: Atributo de clase. Identificador unico.\n",
    "- **void say_id()**: Imprime 'Mi id es: {self.id}.\n"
   ]
  },
  {
   "cell_type": "code",
   "execution_count": 77,
   "id": "042c8b64",
   "metadata": {},
   "outputs": [],
   "source": [
    "class Employee:\n",
    "    new_id = 1\n",
    "    \n",
    "    def __init__(self):\n",
    "        self.id = Employee.new_id        \n",
    "        Employee.new_id += 1\n",
    "        \n",
    "    def say_id(self):\n",
    "        print(f'Mi id es {self.id}')\n"
   ]
  },
  {
   "cell_type": "code",
   "execution_count": 78,
   "id": "35752520",
   "metadata": {},
   "outputs": [
    {
     "name": "stdout",
     "output_type": "stream",
     "text": [
      "Mi id es 1\n"
     ]
    }
   ],
   "source": [
    "juan = Employee()\n",
    "juan.say_id()\n"
   ]
  },
  {
   "cell_type": "markdown",
   "id": "3d662cd4",
   "metadata": {},
   "source": [
    "\n",
    "## Clase User\n",
    "- **str role**: Atributo de instancia. Funcion de `User` p.ej.\n",
    "    - Administrador\n",
    "    - Manager\n",
    "    - Usuario\n",
    "- **str username**: Atributo de instancia. Nombre del usuario.\n",
    "- **void say_user_info()**: Imprime 'Mi nombre es {self.username} y soy {self.role}.'.\n",
    "\n"
   ]
  },
  {
   "cell_type": "code",
   "execution_count": 79,
   "id": "52441eb0",
   "metadata": {},
   "outputs": [],
   "source": [
    "class User:\n",
    "    \n",
    "    def __init__(self, str_role,str_username ):\n",
    "        self.role = str_role\n",
    "        self.username = str_username\n",
    "        \n",
    "        \n",
    "    def say_user_info(self):\n",
    "        print(f'Mi nombre es {self.username} y soy {self.role}.')\n"
   ]
  },
  {
   "cell_type": "code",
   "execution_count": 80,
   "id": "c2278ba8",
   "metadata": {},
   "outputs": [
    {
     "name": "stdout",
     "output_type": "stream",
     "text": [
      "Mi nombre es Gabriela y soy Usuario.\n",
      "Mi nombre es Suzana y soy Manager.\n",
      "Mi nombre es Victor y soy Usuario.\n"
     ]
    }
   ],
   "source": [
    "gabriela = User('Usuario', 'Gabriela')\n",
    "gabriela.say_user_info()\n",
    "\n",
    "suzana = User('Manager', 'Suzana')\n",
    "suzana.say_user_info()\n",
    "\n",
    "victor = User('Usuario', 'Victor')\n",
    "victor.say_user_info()"
   ]
  },
  {
   "cell_type": "markdown",
   "id": "dcb942b7",
   "metadata": {},
   "source": [
    "## Clase Admin\n",
    "- **void say_id()**: Imprime:\n",
    "    - 'Mi id es: {self.id}.\n",
    "    - 'Soy un Administrador \\\\(0-0)/'.\n",
    " "
   ]
  },
  {
   "cell_type": "code",
   "execution_count": 81,
   "id": "22c6fabd",
   "metadata": {},
   "outputs": [],
   "source": [
    "class Admin(Employee, User):\n",
    "    def __init__(self, role, username):\n",
    "        Employee.__init__(self)  \n",
    "        User.__init__(self, role, username)\n",
    "        \n",
    "        \n",
    "    def say_id(self):\n",
    "        super().say_id()  \n",
    "        User.say_user_info(self)  \n",
    " \n",
    "    "
   ]
  },
  {
   "cell_type": "code",
   "execution_count": 82,
   "id": "752382eb",
   "metadata": {},
   "outputs": [
    {
     "name": "stdout",
     "output_type": "stream",
     "text": [
      "Mi id es 2\n",
      "Mi nombre es Juan y soy Administrador.\n"
     ]
    }
   ],
   "source": [
    "Juan = Admin(\"Administrador\", \"Juan\")\n",
    "Juan.say_id()\n"
   ]
  },
  {
   "cell_type": "markdown",
   "id": "ebfb5a78",
   "metadata": {},
   "source": [
    "   \n",
    "## Clase Manager\n",
    "- **void say_id()**: Imprime:\n",
    "    - 'Mi id es: {self.id}.\n",
    "    - 'Soy un Administrador \\\\(0-0)/'.    \n",
    "    - 'Y estoy al mando'"
   ]
  },
  {
   "cell_type": "code",
   "execution_count": 83,
   "id": "0d16c9a0",
   "metadata": {},
   "outputs": [],
   "source": [
    "class Manager(Admin):\n",
    "    def say_id(self):\n",
    "        super().say_id()  # Llama al método say_id() de Admin\n",
    "        print('Estoy a cargo')\n"
   ]
  },
  {
   "cell_type": "code",
   "execution_count": 84,
   "id": "7c7f462e",
   "metadata": {},
   "outputs": [
    {
     "name": "stdout",
     "output_type": "stream",
     "text": [
      "Mi id es 3\n",
      "Mi nombre es Felipe y soy Manager.\n",
      "Estoy a cargo\n"
     ]
    }
   ],
   "source": [
    "Felipe = Manager(\"Manager\", \"Felipe\")\n",
    "Felipe.say_id()\n"
   ]
  }
 ],
 "metadata": {
  "kernelspec": {
   "display_name": "Python 3 (ipykernel)",
   "language": "python",
   "name": "python3"
  },
  "language_info": {
   "codemirror_mode": {
    "name": "ipython",
    "version": 3
   },
   "file_extension": ".py",
   "mimetype": "text/x-python",
   "name": "python",
   "nbconvert_exporter": "python",
   "pygments_lexer": "ipython3",
   "version": "3.12.4"
  }
 },
 "nbformat": 4,
 "nbformat_minor": 5
}
