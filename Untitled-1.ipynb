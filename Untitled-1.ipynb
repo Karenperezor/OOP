{
 "cells": [
  {
   "cell_type": "markdown",
   "metadata": {},
   "source": [
    "# Ejercicio 7 de OOP"
   ]
  },
  {
   "cell_type": "markdown",
   "metadata": {},
   "source": [
    "## Clase `fullName` (nombre)\n",
    "- **String name:** El usuario ingresa su nombre \n",
    "- **String surname:** El usuario ingresa su apellido materno\n",
    "- **String secondSurname:** El usuario ingresa su apellido paterno\n",
    "\n",
    "_____________________________________\n",
    "- **void say_name():** Regresa el nombre completo\n"
   ]
  },
  {
   "cell_type": "code",
   "execution_count": 22,
   "metadata": {},
   "outputs": [],
   "source": [
    "class fullName:\n",
    "    def __init__(self, name, surname, secondSurname):\n",
    "        self.name = name\n",
    "        self.surname = surname\n",
    "        self.secondSurname = secondSurname\n",
    "\n",
    "    def say_name(self):\n",
    "        \n",
    "        full_name = f\"{self.name} {self.surname} {self.secondSurname}\"\n",
    "        return full_name.title()\n"
   ]
  },
  {
   "cell_type": "code",
   "execution_count": 23,
   "metadata": {},
   "outputs": [
    {
     "name": "stdout",
     "output_type": "stream",
     "text": [
      "Juan Perez Hernadez\n",
      "Victor Ramirez Cruz\n",
      "Brenda Salazar Yañez\n"
     ]
    }
   ],
   "source": [
    "juan = fullName(\"juan\", \"perez\", \"hernadez\")\n",
    "print(juan.say_name())\n",
    "\n",
    "victor = fullName(\"VICTOR\", \"RAMIREZ\", \"CRUZ\")\n",
    "print(victor.say_name()) \n",
    "\n",
    "brenda = fullName(\"BrENdA\", \"SAlaZar\", \"YAñEz\")\n",
    "print(brenda.say_name()) "
   ]
  },
  {
   "cell_type": "code",
   "execution_count": 24,
   "metadata": {},
   "outputs": [],
   "source": [
    "class fullName:\n",
    "    def __init__(self, name, surname, secondSurname):\n",
    "        self.name = name\n",
    "        self.surname = surname\n",
    "        self.secondSurname = secondSurname\n",
    "\n",
    "    def __str__(self):\n",
    "        return f\"{self.name} {self.surname} {self.secondSurname}\".title()\n"
   ]
  },
  {
   "cell_type": "code",
   "execution_count": 25,
   "metadata": {},
   "outputs": [
    {
     "name": "stdout",
     "output_type": "stream",
     "text": [
      "Brenda Salazar Yañez\n"
     ]
    }
   ],
   "source": [
    "brenda = fullName(\"BrENdA\", \"SAlaZar\", \"YAñEz\")\n",
    "print(brenda) "
   ]
  },
  {
   "cell_type": "markdown",
   "metadata": {},
   "source": [
    "## Clase `point2D` \n",
    "- **String name:** El usuario ingresa su nombre \n",
    "- **String surname:** El usuario ingresa su apellido materno\n",
    "- **String secondSurname:** El usuario ingresa su apellido paterno\n",
    "\n",
    "_____________________________________\n",
    "- **void say_name():** Regresa el nombre completo\n"
   ]
  },
  {
   "cell_type": "code",
   "execution_count": null,
   "metadata": {},
   "outputs": [],
   "source": []
  },
  {
   "cell_type": "code",
   "execution_count": 26,
   "metadata": {},
   "outputs": [],
   "source": [
    "import math\n",
    "\n",
    "class Point2D:\n",
    "    def __init__(self, x, y ):\n",
    "        self.x = x\n",
    "        self.y = y\n",
    "\n",
    "    def calculate_distance(self, other):\n",
    "        distance = math.sqrt((self.x - other.x) ** 2 + (self.y - other.y) ** 2)\n",
    "        return distance\n"
   ]
  },
  {
   "cell_type": "code",
   "execution_count": 27,
   "metadata": {},
   "outputs": [
    {
     "name": "stdout",
     "output_type": "stream",
     "text": [
      "6.082762530298219\n"
     ]
    }
   ],
   "source": [
    "point1 = Point2D(3, 4)\n",
    "point2 = Point2D( 9, 5)\n",
    "distancia =  point1.calculate_distance(point2)\n",
    "print(distancia)\n"
   ]
  },
  {
   "cell_type": "code",
   "execution_count": 28,
   "metadata": {},
   "outputs": [
    {
     "name": "stdout",
     "output_type": "stream",
     "text": [
      "15.0\n"
     ]
    }
   ],
   "source": [
    "point1 = Point2D(-3, 4)\n",
    "point2 = Point2D( 9, -5)\n",
    "distancia =  point1.calculate_distance(point2)\n",
    "print(distancia)"
   ]
  },
  {
   "cell_type": "markdown",
   "metadata": {},
   "source": [
    "## Clase `timeInSeconds` \n",
    "- **int hours:** El usuario ingresa las horas\n",
    "- **int minutes:** El usuario ingresa las horas \n",
    "- **int hours:** El usuario ingresa las horas\n",
    "\n",
    "_____________________________________\n",
    "- **void totalSeconds():** Regresa el total en segundos\n"
   ]
  },
  {
   "cell_type": "code",
   "execution_count": 29,
   "metadata": {},
   "outputs": [],
   "source": [
    "class timeInSeconds:\n",
    "    def __init__(self, hours, minutes, seconds):\n",
    "        self.hours = hours\n",
    "        self.minutes = minutes\n",
    "        self.seconds = seconds\n",
    "\n",
    "    def totalSeconds(self):\n",
    "       return self.hours * 3600 + self.minutes * 60 + self.seconds\n",
    "\n",
    "    def __str__(self):\n",
    "        return f\"{self.hours:02}:{self.minutes:02}:{self.seconds:02}\"\n"
   ]
  },
  {
   "cell_type": "code",
   "execution_count": 30,
   "metadata": {},
   "outputs": [
    {
     "name": "stdout",
     "output_type": "stream",
     "text": [
      "02:10:03\n",
      "7803\n",
      "16:33:11\n",
      "59591\n"
     ]
    }
   ],
   "source": [
    "\n",
    "time1 = timeInSeconds(2, 10, 3)\n",
    "print(time1)  \n",
    "print(time1.totalSeconds())  \n",
    "\n",
    "\n",
    "time2 = timeInSeconds(16, 33, 11)\n",
    "print(time2)  \n",
    "print(time2.totalSeconds())  \n",
    "\n"
   ]
  },
  {
   "cell_type": "markdown",
   "metadata": {},
   "source": [
    "# Diccionarios \n",
    "Se declara con llaves \n",
    "dict = { 'palabra_clave' : valor }\n",
    "\n",
    "\n",
    "Los diccionarios al hacer un for toma solo las palabras clave (keys) en lugar de los valores (values)\n",
    "\n"
   ]
  },
  {
   "cell_type": "code",
   "execution_count": 31,
   "metadata": {},
   "outputs": [
    {
     "name": "stdout",
     "output_type": "stream",
     "text": [
      "{'Nombre': 'Brayan', 'Edad': 19, 'Altura': 169}\n",
      "Nombre\n",
      "Edad\n",
      "Altura\n",
      "Nombre\n",
      "Edad\n",
      "Altura\n",
      "Brayan\n",
      "19\n",
      "169\n",
      "Brayan\n",
      "Nombre Freyra\n",
      "Edad 19\n",
      "Altura 169\n",
      "['__class__', '__class_getitem__', '__contains__', '__delattr__', '__delitem__', '__dir__', '__doc__', '__eq__', '__format__', '__ge__', '__getattribute__', '__getitem__', '__getstate__', '__gt__', '__hash__', '__init__', '__init_subclass__', '__ior__', '__iter__', '__le__', '__len__', '__lt__', '__ne__', '__new__', '__or__', '__reduce__', '__reduce_ex__', '__repr__', '__reversed__', '__ror__', '__setattr__', '__setitem__', '__sizeof__', '__str__', '__subclasshook__', 'clear', 'copy', 'fromkeys', 'get', 'items', 'keys', 'pop', 'popitem', 'setdefault', 'update', 'values']\n",
      "Help on dict object:\n",
      "\n",
      "class dict(object)\n",
      " |  dict() -> new empty dictionary\n",
      " |  dict(mapping) -> new dictionary initialized from a mapping object's\n",
      " |      (key, value) pairs\n",
      " |  dict(iterable) -> new dictionary initialized as if via:\n",
      " |      d = {}\n",
      " |      for k, v in iterable:\n",
      " |          d[k] = v\n",
      " |  dict(**kwargs) -> new dictionary initialized with the name=value pairs\n",
      " |      in the keyword argument list.  For example:  dict(one=1, two=2)\n",
      " |\n",
      " |  Built-in subclasses:\n",
      " |      StgDict\n",
      " |\n",
      " |  Methods defined here:\n",
      " |\n",
      " |  __contains__(self, key, /)\n",
      " |      True if the dictionary has the specified key, else False.\n",
      " |\n",
      " |  __delitem__(self, key, /)\n",
      " |      Delete self[key].\n",
      " |\n",
      " |  __eq__(self, value, /)\n",
      " |      Return self==value.\n",
      " |\n",
      " |  __ge__(self, value, /)\n",
      " |      Return self>=value.\n",
      " |\n",
      " |  __getattribute__(self, name, /)\n",
      " |      Return getattr(self, name).\n",
      " |\n",
      " |  __getitem__(self, key, /)\n",
      " |      Return self[key].\n",
      " |\n",
      " |  __gt__(self, value, /)\n",
      " |      Return self>value.\n",
      " |\n",
      " |  __init__(self, /, *args, **kwargs)\n",
      " |      Initialize self.  See help(type(self)) for accurate signature.\n",
      " |\n",
      " |  __ior__(self, value, /)\n",
      " |      Return self|=value.\n",
      " |\n",
      " |  __iter__(self, /)\n",
      " |      Implement iter(self).\n",
      " |\n",
      " |  __le__(self, value, /)\n",
      " |      Return self<=value.\n",
      " |\n",
      " |  __len__(self, /)\n",
      " |      Return len(self).\n",
      " |\n",
      " |  __lt__(self, value, /)\n",
      " |      Return self<value.\n",
      " |\n",
      " |  __ne__(self, value, /)\n",
      " |      Return self!=value.\n",
      " |\n",
      " |  __or__(self, value, /)\n",
      " |      Return self|value.\n",
      " |\n",
      " |  __repr__(self, /)\n",
      " |      Return repr(self).\n",
      " |\n",
      " |  __reversed__(self, /)\n",
      " |      Return a reverse iterator over the dict keys.\n",
      " |\n",
      " |  __ror__(self, value, /)\n",
      " |      Return value|self.\n",
      " |\n",
      " |  __setitem__(self, key, value, /)\n",
      " |      Set self[key] to value.\n",
      " |\n",
      " |  __sizeof__(...)\n",
      " |      D.__sizeof__() -> size of D in memory, in bytes\n",
      " |\n",
      " |  clear(...)\n",
      " |      D.clear() -> None.  Remove all items from D.\n",
      " |\n",
      " |  copy(...)\n",
      " |      D.copy() -> a shallow copy of D\n",
      " |\n",
      " |  get(self, key, default=None, /)\n",
      " |      Return the value for key if key is in the dictionary, else default.\n",
      " |\n",
      " |  items(...)\n",
      " |      D.items() -> a set-like object providing a view on D's items\n",
      " |\n",
      " |  keys(...)\n",
      " |      D.keys() -> a set-like object providing a view on D's keys\n",
      " |\n",
      " |  pop(...)\n",
      " |      D.pop(k[,d]) -> v, remove specified key and return the corresponding value.\n",
      " |\n",
      " |      If the key is not found, return the default if given; otherwise,\n",
      " |      raise a KeyError.\n",
      " |\n",
      " |  popitem(self, /)\n",
      " |      Remove and return a (key, value) pair as a 2-tuple.\n",
      " |\n",
      " |      Pairs are returned in LIFO (last-in, first-out) order.\n",
      " |      Raises KeyError if the dict is empty.\n",
      " |\n",
      " |  setdefault(self, key, default=None, /)\n",
      " |      Insert key with a value of default if key is not in the dictionary.\n",
      " |\n",
      " |      Return the value for key if key is in the dictionary, else default.\n",
      " |\n",
      " |  update(...)\n",
      " |      D.update([E, ]**F) -> None.  Update D from dict/iterable E and F.\n",
      " |      If E is present and has a .keys() method, then does:  for k in E: D[k] = E[k]\n",
      " |      If E is present and lacks a .keys() method, then does:  for k, v in E: D[k] = v\n",
      " |      In either case, this is followed by: for k in F:  D[k] = F[k]\n",
      " |\n",
      " |  values(...)\n",
      " |      D.values() -> an object providing a view on D's values\n",
      " |\n",
      " |  ----------------------------------------------------------------------\n",
      " |  Class methods defined here:\n",
      " |\n",
      " |  __class_getitem__(...)\n",
      " |      See PEP 585\n",
      " |\n",
      " |  fromkeys(iterable, value=None, /)\n",
      " |      Create a new dictionary with keys from iterable and values set to value.\n",
      " |\n",
      " |  ----------------------------------------------------------------------\n",
      " |  Static methods defined here:\n",
      " |\n",
      " |  __new__(*args, **kwargs)\n",
      " |      Create and return a new object.  See help(type) for accurate signature.\n",
      " |\n",
      " |  ----------------------------------------------------------------------\n",
      " |  Data and other attributes defined here:\n",
      " |\n",
      " |  __hash__ = None\n",
      "\n",
      "None\n",
      "dict_items([('Nombre', 'Freyra'), ('Edad', 19), ('Altura', 169)])\n"
     ]
    }
   ],
   "source": [
    "#En un diccionario le pasas las palabras clave\n",
    "dict = { 'Nombre' : 'Brayan', 'Edad' : 19 , 'Altura' : 169  }\n",
    "print(dict)\n",
    "\n",
    "for valor in dict:\n",
    "    print(valor, end=\"\\n\")\n",
    "   \n",
    "     \n",
    "for valor in dict.keys(): #Da las palabras clave, pero no es necesario \n",
    "    print(valor, end=\"\\n\")\n",
    "    \n",
    " \n",
    "for valor in dict.values(): \n",
    "    print(valor, end=\"\\n\")\n",
    "    \n",
    "\n",
    "    \n",
    "print(dict['Nombre'])\n",
    "dict['Nombre'] = \"Freyra\"\n",
    "\n",
    "\n",
    "for key, valor in dict.items(): #Recorrer cada elemento de la tupla\n",
    "    print(key, valor)\n",
    "\n",
    "\n",
    "print(dir(dict)) # para listar todos los atributos y métodos disponibles para el objeto\n",
    "print(help(dict))\n",
    "print(dict.items()) #regresa una lista de tuplas las tuplas ({ 'keys' : values }) \n",
    "\n",
    "\n",
    "    "
   ]
  },
  {
   "cell_type": "code",
   "execution_count": 32,
   "metadata": {},
   "outputs": [
    {
     "name": "stdout",
     "output_type": "stream",
     "text": [
      "[2, 3, -5, 4]\n",
      "2\n",
      "3\n",
      "-5\n",
      "4\n"
     ]
    },
    {
     "data": {
      "text/plain": [
       "-5"
      ]
     },
     "execution_count": 32,
     "metadata": {},
     "output_type": "execute_result"
    }
   ],
   "source": [
    "#En una lista le pasas el indice \n",
    "lista = [2, 3, -5, 4]\n",
    "print(lista)\n",
    "\n",
    "for valor in lista:\n",
    "    print(valor)\n",
    "    \n",
    "lista[2] \n",
    "    "
   ]
  },
  {
   "cell_type": "markdown",
   "metadata": {},
   "source": [
    "# Freq Table\n",
    "\n",
    "FreqTable\n",
    "   self.count = {}\n",
    "\n",
    "ft = FreqTable\n",
    "\n",
    "\n",
    "el diccionario funcionara de la forma pasa un valor, checa si esta el valor si esta lo incrementa y si no lo agrega\n",
    "\n",
    "hay dos metodos \n",
    "add(element), si ya existe el elemento lo incrementa \n",
    "\n",
    "el otro metodo count(element)\n",
    "el elemento count verifica si esta, y regresa el numero de ocurrencias "
   ]
  },
  {
   "cell_type": "code",
   "execution_count": 33,
   "metadata": {},
   "outputs": [],
   "source": [
    "class FreqTable:\n",
    "    def __init__(self):\n",
    "        self.count = {}\n",
    "\n",
    "    def add(self, element):\n",
    "        if element in self.count:\n",
    "            self.count[element] += 1\n",
    "        else:\n",
    "            self.count[element] = 1\n",
    "\n",
    "    def count_element(self, element):\n",
    "        return self.count.get(element, 0) \n",
    "    \n",
    "    def display_table(self):\n",
    "        for element, freq in self.count.items():\n",
    "            print(f\"{element}: {freq}\")\n"
   ]
  },
  {
   "cell_type": "code",
   "execution_count": 35,
   "metadata": {},
   "outputs": [
    {
     "name": "stdout",
     "output_type": "stream",
     "text": [
      "uno: 4\n",
      "dos: 3\n",
      "tres: 2\n"
     ]
    }
   ],
   "source": [
    "ft = FreqTable()\n",
    "\n",
    "ft.add('uno')\n",
    "ft.add('dos')\n",
    "ft.add('uno')\n",
    "ft.add('uno')\n",
    "ft.add('tres')\n",
    "ft.add('dos')\n",
    "ft.add('tres')\n",
    "ft.add('dos')\n",
    "ft.add('uno')\n",
    "\n",
    "\n",
    "ft.display_table()\n"
   ]
  }
 ],
 "metadata": {
  "kernelspec": {
   "display_name": "Python 3 (ipykernel)",
   "language": "python",
   "name": "python3"
  },
  "language_info": {
   "codemirror_mode": {
    "name": "ipython",
    "version": 3
   },
   "file_extension": ".py",
   "mimetype": "text/x-python",
   "name": "python",
   "nbconvert_exporter": "python",
   "pygments_lexer": "ipython3",
   "version": "3.12.4"
  }
 },
 "nbformat": 4,
 "nbformat_minor": 4
}
