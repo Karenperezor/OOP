{
 "cells": [
  {
   "cell_type": "markdown",
   "metadata": {},
   "source": [
    "# Ejercicio 7 de OOP"
   ]
  },
  {
   "cell_type": "markdown",
   "metadata": {},
   "source": [
    "## Clase `fullName` (nombre)\n",
    "- **String name:** El usuario ingresa su nombre \n",
    "- **String surname:** El usuario ingresa su apellido materno\n",
    "- **String secondSurname:** El usuario ingresa su apellido paterno\n",
    "\n",
    "_____________________________________\n",
    "- **void say_name():** Regresa el nombre completo\n"
   ]
  },
  {
   "cell_type": "code",
   "execution_count": 48,
   "metadata": {},
   "outputs": [],
   "source": [
    "class fullName:\n",
    "    def __init__(self, name, surname, secondSurname):\n",
    "        self.name = name\n",
    "        self.surname = surname\n",
    "        self.secondSurname = secondSurname\n",
    "\n",
    "    def say_name(self):\n",
    "        \n",
    "        full_name = f\"{self.name} {self.surname} {self.secondSurname}\"\n",
    "        return full_name.title()\n"
   ]
  },
  {
   "cell_type": "code",
   "execution_count": 49,
   "metadata": {},
   "outputs": [
    {
     "name": "stdout",
     "output_type": "stream",
     "text": [
      "Juan Perez Hernadez\n",
      "Victor Ramirez Cruz\n",
      "Brenda Salazar Yañez\n"
     ]
    }
   ],
   "source": [
    "juan = fullName(\"juan\", \"perez\", \"hernadez\")\n",
    "print(juan.say_name())\n",
    "\n",
    "victor = fullName(\"VICTOR\", \"RAMIREZ\", \"CRUZ\")\n",
    "print(victor.say_name()) \n",
    "\n",
    "brenda = fullName(\"BrENdA\", \"SAlaZar\", \"YAñEz\")\n",
    "print(brenda.say_name()) "
   ]
  },
  {
   "cell_type": "code",
   "execution_count": 50,
   "metadata": {},
   "outputs": [],
   "source": [
    "class fullName:\n",
    "    def __init__(self, name, surname, secondSurname):\n",
    "        self.name = name\n",
    "        self.surname = surname\n",
    "        self.secondSurname = secondSurname\n",
    "\n",
    "    def __str__(self):\n",
    "        return f\"{self.name} {self.surname} {self.secondSurname}\".title()\n"
   ]
  },
  {
   "cell_type": "code",
   "execution_count": 51,
   "metadata": {},
   "outputs": [
    {
     "name": "stdout",
     "output_type": "stream",
     "text": [
      "Brenda Salazar Yañez\n"
     ]
    }
   ],
   "source": [
    "brenda = fullName(\"BrENdA\", \"SAlaZar\", \"YAñEz\")\n",
    "print(brenda) "
   ]
  },
  {
   "cell_type": "markdown",
   "metadata": {},
   "source": [
    "## Clase `point2D` \n",
    "- **String name:** El usuario ingresa su nombre \n",
    "- **String surname:** El usuario ingresa su apellido materno\n",
    "- **String secondSurname:** El usuario ingresa su apellido paterno\n",
    "\n",
    "_____________________________________\n",
    "- **void say_name():** Regresa el nombre completo\n"
   ]
  },
  {
   "cell_type": "code",
   "execution_count": null,
   "metadata": {},
   "outputs": [],
   "source": []
  },
  {
   "cell_type": "code",
   "execution_count": 52,
   "metadata": {},
   "outputs": [],
   "source": [
    "import math\n",
    "\n",
    "class Point2D:\n",
    "    def __init__(self, x, y ):\n",
    "        self.x = x\n",
    "        self.y = y\n",
    "\n",
    "    def calculate_distance(self, other):\n",
    "        distance = math.sqrt((self.x - other.x) ** 2 + (self.y - other.y) ** 2)\n",
    "        return distance\n"
   ]
  },
  {
   "cell_type": "code",
   "execution_count": 53,
   "metadata": {},
   "outputs": [
    {
     "name": "stdout",
     "output_type": "stream",
     "text": [
      "6.082762530298219\n"
     ]
    }
   ],
   "source": [
    "point1 = Point2D(3, 4)\n",
    "point2 = Point2D( 9, 5)\n",
    "distancia =  point1.calculate_distance(point2)\n",
    "print(distancia)\n"
   ]
  },
  {
   "cell_type": "code",
   "execution_count": 54,
   "metadata": {},
   "outputs": [
    {
     "name": "stdout",
     "output_type": "stream",
     "text": [
      "15.0\n"
     ]
    }
   ],
   "source": [
    "point1 = Point2D(-3, 4)\n",
    "point2 = Point2D( 9, -5)\n",
    "distancia =  point1.calculate_distance(point2)\n",
    "print(distancia)"
   ]
  },
  {
   "cell_type": "markdown",
   "metadata": {},
   "source": [
    "## Clase `timeInSeconds` \n",
    "- **int hours:** El usuario ingresa las horas\n",
    "- **int minutes:** El usuario ingresa las horas \n",
    "- **int hours:** El usuario ingresa las horas\n",
    "\n",
    "_____________________________________\n",
    "- **void totalSeconds():** Regresa el total en segundos\n"
   ]
  },
  {
   "cell_type": "code",
   "execution_count": 55,
   "metadata": {},
   "outputs": [],
   "source": [
    "class timeInSeconds:\n",
    "    def __init__(self, hours, minutes, seconds):\n",
    "        self.hours = hours\n",
    "        self.minutes = minutes\n",
    "        self.seconds = seconds\n",
    "\n",
    "    def totalSeconds(self):\n",
    "       return self.hours * 3600 + self.minutes * 60 + self.seconds\n",
    "\n",
    "    def __str__(self):\n",
    "        return f\"{self.hours}:{self.minutes}:{self.seconds}\"\n"
   ]
  },
  {
   "cell_type": "code",
   "execution_count": 56,
   "metadata": {},
   "outputs": [
    {
     "name": "stdout",
     "output_type": "stream",
     "text": [
      "2:10:3\n",
      "7803\n",
      "16:33:11\n",
      "59591\n"
     ]
    }
   ],
   "source": [
    "\n",
    "time1 = timeInSeconds(2, 10, 3)\n",
    "print(time1)  \n",
    "print(time1.totalSeconds())  \n",
    "\n",
    "\n",
    "time2 = timeInSeconds(16, 33, 11)\n",
    "print(time2)  \n",
    "print(time2.totalSeconds())  \n",
    "\n"
   ]
  }
 ],
 "metadata": {
  "kernelspec": {
   "display_name": "Python 3 (ipykernel)",
   "language": "python",
   "name": "python3"
  },
  "language_info": {
   "codemirror_mode": {
    "name": "ipython",
    "version": 3
   },
   "file_extension": ".py",
   "mimetype": "text/x-python",
   "name": "python",
   "nbconvert_exporter": "python",
   "pygments_lexer": "ipython3",
   "version": "3.12.4"
  }
 },
 "nbformat": 4,
 "nbformat_minor": 4
}
