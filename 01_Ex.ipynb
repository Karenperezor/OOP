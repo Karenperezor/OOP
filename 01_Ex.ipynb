{
 "cells": [
  {
   "cell_type": "markdown",
   "metadata": {},
   "source": [
    "# Ejercicio 1 de OOP\n"
   ]
  },
  {
   "cell_type": "markdown",
   "metadata": {},
   "source": [
    "<img src=\"./Diagramas_clases/01_create_class.png\" alt=\"Ex1\" width=\"500\">"
   ]
  },
  {
   "cell_type": "markdown",
   "metadata": {},
   "source": []
  },
  {
   "cell_type": "markdown",
   "metadata": {},
   "source": [
    "- **int id:** Asigna un identificador único a cada instancia de Employee.\n",
    "- **int new_id:** Variable global de Employee\n",
    "- **void say_id():** Imprime el id de la instancia \n"
   ]
  },
  {
   "cell_type": "code",
   "execution_count": 8,
   "metadata": {},
   "outputs": [],
   "source": [
    "class Employee:\n",
    "    new_id= 1\n",
    "\n",
    "    def _init_(self, name, age):\n",
    "        self.id =Employee.new_id\n",
    "        self.name = name\n",
    "        self.age = age\n",
    "        Employee.new_id += 1\n",
    "\n",
    "    def say_id(self):\n",
    "        print(f'Mi nombre es {self.name} y mi id es {self.id}') \n",
    "    def say_age(self):\n",
    "            print(f'mi edad es{self.age}')"
   ]
  },
  {
   "cell_type": "code",
   "execution_count": 9,
   "metadata": {},
   "outputs": [
    {
     "ename": "TypeError",
     "evalue": "Employee() takes no arguments",
     "output_type": "error",
     "traceback": [
      "\u001b[0;31m---------------------------------------------------------------------------\u001b[0m",
      "\u001b[0;31mTypeError\u001b[0m                                 Traceback (most recent call last)",
      "Cell \u001b[0;32mIn[9], line 1\u001b[0m\n\u001b[0;32m----> 1\u001b[0m Savana \u001b[38;5;241m=\u001b[39m \u001b[43mEmployee\u001b[49m\u001b[43m(\u001b[49m\u001b[38;5;124;43m'\u001b[39;49m\u001b[38;5;124;43mSavana\u001b[39;49m\u001b[38;5;124;43m'\u001b[39;49m\u001b[43m,\u001b[49m\u001b[38;5;241;43m22\u001b[39;49m\u001b[43m)\u001b[49m\n\u001b[1;32m      2\u001b[0m Savana\u001b[38;5;241m.\u001b[39msay_id()\n\u001b[1;32m      3\u001b[0m Savana\u001b[38;5;241m.\u001b[39msay_age()\n",
      "\u001b[0;31mTypeError\u001b[0m: Employee() takes no arguments"
     ]
    }
   ],
   "source": [
    "Savana = Employee('Savana',22)\n",
    "Savana.say_id()\n",
    "Savana.say_age()\n",
    "\n",
    "\n",
    "Dakota = Employee('Dakota',19)\n",
    "Dakota.say_id()\n",
    "Dakota.say_age()"
   ]
  },
  {
   "cell_type": "code",
   "execution_count": null,
   "metadata": {},
   "outputs": [],
   "source": []
  }
 ],
 "metadata": {
  "kernelspec": {
   "display_name": "Python 3",
   "language": "python",
   "name": "python3"
  },
  "language_info": {
   "codemirror_mode": {
    "name": "ipython",
    "version": 3
   },
   "file_extension": ".py",
   "mimetype": "text/x-python",
   "name": "python",
   "nbconvert_exporter": "python",
   "pygments_lexer": "ipython3",
   "version": "3.9.6"
  }
 },
 "nbformat": 4,
 "nbformat_minor": 2
}
